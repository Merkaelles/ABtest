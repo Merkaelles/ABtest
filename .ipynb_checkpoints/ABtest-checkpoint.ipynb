{
 "cells": [
  {
   "cell_type": "markdown",
   "id": "5a8896a9-7c6c-49b5-bda4-3791288fb291",
   "metadata": {},
   "source": [
    "1. 我们有两种广告设计：设计A和设计B（在原版A的基础上更换了背景图片），随机向用户展示其中一种设计，并记录用户是否点击。\n",
    "原假设H1: 设计 A 和设计 B 的点击率无显著差异。\n",
    "备选假设H2: 设计 A 和设计 B 的点击率有显著差异"
   ]
  },
  {
   "cell_type": "code",
   "execution_count": 9,
   "id": "ae1fa70c-a586-4aec-b53c-9ed0ff80523c",
   "metadata": {},
   "outputs": [],
   "source": [
    "import numpy as np\n",
    "import pandas as pd\n",
    "from scipy.stats import chi2_contingency, norm   # 采用卡方检验"
   ]
  },
  {
   "cell_type": "markdown",
   "id": "4903b5c4-de68-4527-952e-27a604854cbd",
   "metadata": {},
   "source": [
    "2. Generally, 显著性水平设为0.05， 统计功效为0.8（1-0.2）"
   ]
  },
  {
   "cell_type": "code",
   "execution_count": 11,
   "id": "98cce0b0-7948-4255-ac2f-89d3e1f27cc2",
   "metadata": {},
   "outputs": [
    {
     "name": "stdout",
     "output_type": "stream",
     "text": [
      "1.959963984540054 0.8416212335729143\n"
     ]
    }
   ],
   "source": [
    "alpha = 0.05\n",
    "power = 0.8\n",
    "Z_alpha = norm.ppf(1 - alpha / 2)  # 双尾检验\n",
    "Z_beta = norm.ppf(power)\n",
    "print(Z_alpha, Z_beta)"
   ]
  },
  {
   "cell_type": "markdown",
   "id": "92d626b9-96ff-4718-8bcb-e192c0c5b466",
   "metadata": {},
   "source": [
    "3. 计算样本量"
   ]
  },
  {
   "cell_type": "code",
   "execution_count": 14,
   "id": "0fc5091e-d3ba-4edf-abb2-bb70d0b313a1",
   "metadata": {},
   "outputs": [
    {
     "name": "stdout",
     "output_type": "stream",
     "text": [
      "1091\n"
     ]
    }
   ],
   "source": [
    "pa = 0.2\n",
    "pb = 0.25\n",
    "sample_size = (Z_alpha+Z_beta)**2*(pa*(1-pa)+pb*(1-pb))/(pa-pb)**2\n",
    "print(round(sample_size))"
   ]
  },
  {
   "cell_type": "markdown",
   "id": "1b6ea163-efc7-44a1-ba7d-a8133e9e1793",
   "metadata": {},
   "source": [
    "4. 随机生成点击情况，显示列联表"
   ]
  },
  {
   "cell_type": "code",
   "execution_count": 15,
   "id": "87b50faf-b501-4bfe-acb6-643ba2e82fd0",
   "metadata": {},
   "outputs": [
    {
     "name": "stdout",
     "output_type": "stream",
     "text": [
      "- Contingency table:\n"
     ]
    },
    {
     "data": {
      "text/html": [
       "<div>\n",
       "<style scoped>\n",
       "    .dataframe tbody tr th:only-of-type {\n",
       "        vertical-align: middle;\n",
       "    }\n",
       "\n",
       "    .dataframe tbody tr th {\n",
       "        vertical-align: top;\n",
       "    }\n",
       "\n",
       "    .dataframe thead th {\n",
       "        text-align: right;\n",
       "    }\n",
       "</style>\n",
       "<table border=\"1\" class=\"dataframe\">\n",
       "  <thead>\n",
       "    <tr style=\"text-align: right;\">\n",
       "      <th></th>\n",
       "      <th>A</th>\n",
       "      <th>B</th>\n",
       "    </tr>\n",
       "  </thead>\n",
       "  <tbody>\n",
       "    <tr>\n",
       "      <th>no click</th>\n",
       "      <td>877</td>\n",
       "      <td>839</td>\n",
       "    </tr>\n",
       "    <tr>\n",
       "      <th>click</th>\n",
       "      <td>214</td>\n",
       "      <td>252</td>\n",
       "    </tr>\n",
       "  </tbody>\n",
       "</table>\n",
       "</div>"
      ],
      "text/plain": [
       "            A    B\n",
       "no click  877  839\n",
       "click     214  252"
      ]
     },
     "metadata": {},
     "output_type": "display_data"
    }
   ],
   "source": [
    "np.random.seed(9)    \n",
    "x = np.random.binomial(n=1, p=0.2, size=1091)\n",
    "y = np.random.binomial(n=1, p=0.25, size=1091)\n",
    "_, (a, c) = np.unique(x, return_counts=True)\n",
    "_, (b, d) = np.unique(y, return_counts=True)\n",
    "df = pd.DataFrame(data=[[a, b], [c, d]], \n",
    "                 index=[\"no click\", \"click\"], \n",
    "                 columns=[\"A\", \"B\"])\n",
    "print(\"- Contingency table:\")\n",
    "display(df)"
   ]
  },
  {
   "cell_type": "markdown",
   "id": "3161052f-350a-425f-80f8-c2b2404b2971",
   "metadata": {},
   "source": [
    "5. 采用卡方检验是否存在显著差异性，并得出结论"
   ]
  },
  {
   "cell_type": "code",
   "execution_count": 18,
   "id": "0b8c2309-6f7a-484b-9d96-bff6593fa30c",
   "metadata": {},
   "outputs": [
    {
     "name": "stdout",
     "output_type": "stream",
     "text": [
      "P = 0.0533\n"
     ]
    }
   ],
   "source": [
    "chi2, p, dof, expected = chi2_contingency(df)\n",
    "print(f'P = {p:.4f}')"
   ]
  },
  {
   "cell_type": "code",
   "execution_count": 21,
   "id": "eda5abd8-f454-4837-bc74-d11735ac671f",
   "metadata": {
    "scrolled": true
   },
   "outputs": [
    {
     "name": "stdout",
     "output_type": "stream",
     "text": [
      "结论：无法拒绝原假设，设计A和设计B的点击率无显著差异。\n"
     ]
    }
   ],
   "source": [
    "if p < alpha:\n",
    "    print(\"结论：拒绝原假设，设计A和设计B的点击率有显著差异。\")\n",
    "else:\n",
    "    print(\"结论：无法拒绝原假设，设计A和设计B的点击率无显著差异。\")"
   ]
  },
  {
   "cell_type": "markdown",
   "id": "d1e0ba42-de6d-4b17-8387-7bfc14f0a2b6",
   "metadata": {},
   "source": [
    "6. 结论: 更换了背景图片后的点击率无显著差异"
   ]
  }
 ],
 "metadata": {
  "kernelspec": {
   "display_name": "Python 3 (ipykernel)",
   "language": "python",
   "name": "python3"
  },
  "language_info": {
   "codemirror_mode": {
    "name": "ipython",
    "version": 3
   },
   "file_extension": ".py",
   "mimetype": "text/x-python",
   "name": "python",
   "nbconvert_exporter": "python",
   "pygments_lexer": "ipython3",
   "version": "3.10.16"
  }
 },
 "nbformat": 4,
 "nbformat_minor": 5
}
